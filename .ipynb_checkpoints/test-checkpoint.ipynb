{
 "cells": [
  {
   "cell_type": "code",
   "execution_count": 1,
   "metadata": {},
   "outputs": [
    {
     "name": "stdout",
     "output_type": "stream",
     "text": [
      "aaa\n"
     ]
    }
   ],
   "source": [
    "print(\"aaa\")"
   ]
  },
  {
   "cell_type": "code",
   "execution_count": 2,
   "metadata": {},
   "outputs": [
    {
     "name": "stdout",
     "output_type": "stream",
     "text": [
      "0^2 = 0\n",
      "2^2 = 4\n",
      "4^2 = 16\n",
      "6^2 = 36\n",
      "8^2 = 64\n"
     ]
    }
   ],
   "source": [
    "for x in range(0,9):\n",
    "  if x % 2 == 0:\n",
    "    print(str(x) + \"^2 = \" + str(x * x))"
   ]
  },
  {
   "cell_type": "code",
   "execution_count": 5,
   "metadata": {},
   "outputs": [
    {
     "data": {
      "text/plain": [
       "[['dog', 'cat', 'mouse', 'gorilla'], ('sun', 'beach', 'wave', 'sea', 'sky')]"
      ]
     },
     "execution_count": 5,
     "metadata": {},
     "output_type": "execute_result"
    }
   ],
   "source": [
    "animals = ['dog', 'cat', 'mouse', 'gorilla']\n",
    "summer = ('sun', 'beach', 'wave', 'sea', 'sky')\n",
    "combined = [animals, summer];\n",
    "combined"
   ]
  },
  {
   "cell_type": "code",
   "execution_count": 6,
   "metadata": {},
   "outputs": [
    {
     "data": {
      "text/plain": [
       "('beach', 'wave')"
      ]
     },
     "execution_count": 6,
     "metadata": {},
     "output_type": "execute_result"
    }
   ],
   "source": [
    "summer[1:3]\n"
   ]
  },
  {
   "cell_type": "code",
   "execution_count": 7,
   "metadata": {},
   "outputs": [
    {
     "name": "stdout",
     "output_type": "stream",
     "text": [
      "oWrd\n"
     ]
    }
   ],
   "source": [
    "str = \"Hello World!\"\n",
    "print(str[4:11:2])"
   ]
  },
  {
   "cell_type": "code",
   "execution_count": 8,
   "metadata": {},
   "outputs": [
    {
     "name": "stdout",
     "output_type": "stream",
     "text": [
      "Iris-setosa\n",
      "\n",
      "Iris-setosa\n",
      "\n",
      "Iris-setosa\n",
      "\n",
      "Iris-setosa\n",
      "\n",
      "Iris-setosa\n",
      "\n",
      "Iris-setosa\n",
      "\n",
      "Iris-setosa\n",
      "\n",
      "Iris-setosa\n",
      "\n",
      "Iris-setosa\n",
      "\n",
      "Iris-setosa\n",
      "\n",
      "Iris-setosa\n",
      "\n",
      "Iris-setosa\n",
      "\n",
      "Iris-setosa\n",
      "\n",
      "Iris-setosa\n",
      "\n",
      "Iris-setosa\n",
      "\n",
      "Iris-setosa\n",
      "\n",
      "Iris-setosa\n",
      "\n",
      "Iris-setosa\n",
      "\n",
      "Iris-setosa\n",
      "\n",
      "Iris-setosa\n",
      "\n",
      "Iris-setosa\n",
      "\n",
      "Iris-setosa\n",
      "\n",
      "Iris-setosa\n",
      "\n",
      "Iris-setosa\n",
      "\n",
      "Iris-setosa\n",
      "\n",
      "Iris-setosa\n",
      "\n",
      "Iris-setosa\n",
      "\n",
      "Iris-setosa\n",
      "\n",
      "Iris-setosa\n",
      "\n",
      "Iris-setosa\n",
      "\n",
      "Iris-setosa\n",
      "\n",
      "Iris-setosa\n",
      "\n",
      "Iris-setosa\n",
      "\n",
      "Iris-setosa\n",
      "\n",
      "Iris-setosa\n",
      "\n",
      "Iris-setosa\n",
      "\n",
      "Iris-setosa\n",
      "\n",
      "Iris-setosa\n",
      "\n",
      "Iris-setosa\n",
      "\n",
      "Iris-setosa\n",
      "\n",
      "Iris-setosa\n",
      "\n",
      "Iris-setosa\n",
      "\n",
      "Iris-setosa\n",
      "\n",
      "Iris-setosa\n",
      "\n",
      "Iris-setosa\n",
      "\n",
      "Iris-setosa\n",
      "\n",
      "Iris-setosa\n",
      "\n",
      "Iris-setosa\n",
      "\n",
      "Iris-setosa\n",
      "\n",
      "Iris-setosa\n",
      "\n",
      "Iris-versicolor\n",
      "\n",
      "Iris-versicolor\n",
      "\n",
      "Iris-versicolor\n",
      "\n",
      "Iris-versicolor\n",
      "\n",
      "Iris-versicolor\n",
      "\n",
      "Iris-versicolor\n",
      "\n",
      "Iris-versicolor\n",
      "\n",
      "Iris-versicolor\n",
      "\n",
      "Iris-versicolor\n",
      "\n",
      "Iris-versicolor\n",
      "\n",
      "Iris-versicolor\n",
      "\n",
      "Iris-versicolor\n",
      "\n",
      "Iris-versicolor\n",
      "\n",
      "Iris-versicolor\n",
      "\n",
      "Iris-versicolor\n",
      "\n",
      "Iris-versicolor\n",
      "\n",
      "Iris-versicolor\n",
      "\n",
      "Iris-versicolor\n",
      "\n",
      "Iris-versicolor\n",
      "\n",
      "Iris-versicolor\n",
      "\n",
      "Iris-versicolor\n",
      "\n",
      "Iris-versicolor\n",
      "\n",
      "Iris-versicolor\n",
      "\n",
      "Iris-versicolor\n",
      "\n",
      "Iris-versicolor\n",
      "\n",
      "Iris-versicolor\n",
      "\n",
      "Iris-versicolor\n",
      "\n",
      "Iris-versicolor\n",
      "\n",
      "Iris-versicolor\n",
      "\n",
      "Iris-versicolor\n",
      "\n",
      "Iris-versicolor\n",
      "\n",
      "Iris-versicolor\n",
      "\n",
      "Iris-versicolor\n",
      "\n",
      "Iris-versicolor\n",
      "\n",
      "Iris-versicolor\n",
      "\n",
      "Iris-versicolor\n",
      "\n",
      "Iris-versicolor\n",
      "\n",
      "Iris-versicolor\n",
      "\n",
      "Iris-versicolor\n",
      "\n",
      "Iris-versicolor\n",
      "\n",
      "Iris-versicolor\n",
      "\n",
      "Iris-versicolor\n",
      "\n",
      "Iris-versicolor\n",
      "\n",
      "Iris-versicolor\n",
      "\n",
      "Iris-versicolor\n",
      "\n",
      "Iris-versicolor\n",
      "\n",
      "Iris-versicolor\n",
      "\n",
      "Iris-versicolor\n",
      "\n",
      "Iris-versicolor\n",
      "\n",
      "Iris-versicolor\n",
      "\n",
      "Iris-virginica\n",
      "\n",
      "Iris-virginica\n",
      "\n",
      "Iris-virginica\n",
      "\n",
      "Iris-virginica\n",
      "\n",
      "Iris-virginica\n",
      "\n",
      "Iris-virginica\n",
      "\n",
      "Iris-virginica\n",
      "\n",
      "Iris-virginica\n",
      "\n",
      "Iris-virginica\n",
      "\n",
      "Iris-virginica\n",
      "\n",
      "Iris-virginica\n",
      "\n",
      "Iris-virginica\n",
      "\n",
      "Iris-virginica\n",
      "\n",
      "Iris-virginica\n",
      "\n",
      "Iris-virginica\n",
      "\n",
      "Iris-virginica\n",
      "\n",
      "Iris-virginica\n",
      "\n",
      "Iris-virginica\n",
      "\n",
      "Iris-virginica\n",
      "\n",
      "Iris-virginica\n",
      "\n",
      "Iris-virginica\n",
      "\n",
      "Iris-virginica\n",
      "\n",
      "Iris-virginica\n",
      "\n",
      "Iris-virginica\n",
      "\n",
      "Iris-virginica\n",
      "\n",
      "Iris-virginica\n",
      "\n",
      "Iris-virginica\n",
      "\n",
      "Iris-virginica\n",
      "\n",
      "Iris-virginica\n",
      "\n",
      "Iris-virginica\n",
      "\n",
      "Iris-virginica\n",
      "\n",
      "Iris-virginica\n",
      "\n",
      "Iris-virginica\n",
      "\n",
      "Iris-virginica\n",
      "\n",
      "Iris-virginica\n",
      "\n",
      "Iris-virginica\n",
      "\n",
      "Iris-virginica\n",
      "\n",
      "Iris-virginica\n",
      "\n",
      "Iris-virginica\n",
      "\n",
      "Iris-virginica\n",
      "\n",
      "Iris-virginica\n",
      "\n",
      "Iris-virginica\n",
      "\n",
      "Iris-virginica\n",
      "\n",
      "Iris-virginica\n",
      "\n",
      "Iris-virginica\n",
      "\n",
      "Iris-virginica\n",
      "\n",
      "Iris-virginica\n",
      "\n",
      "Iris-virginica\n",
      "\n",
      "Iris-virginica\n",
      "\n",
      "Iris-virginica\n",
      "\n"
     ]
    }
   ],
   "source": [
    "\n",
    "f = open('iris.data', 'r')\n",
    "for line in f:\n",
    "    elems = line.split(',')\n",
    "    if len(elems) > 1:\n",
    "        print(elems[4])\n",
    "\n",
    "f.close()"
   ]
  },
  {
   "cell_type": "code",
   "execution_count": 9,
   "metadata": {},
   "outputs": [
    {
     "name": "stdout",
     "output_type": "stream",
     "text": [
      "('average petal length is ', '3.76')\n"
     ]
    }
   ],
   "source": [
    "f = open('iris.data', 'r')\n",
    "totalPetalLength = 0\n",
    "sampleNum = 0\n",
    "for line in f:\n",
    "    elems = line.split(',')\n",
    "    if len(elems) > 1:\n",
    "        totalPetalLength += float(elems[2])\n",
    "        sampleNum += 1\n",
    "print('average petal length is ', \"{:.2f}\".format(totalPetalLength /\n",
    "sampleNum))\n",
    "f.close()"
   ]
  },
  {
   "cell_type": "code",
   "execution_count": 35,
   "metadata": {},
   "outputs": [
    {
     "data": {
      "text/plain": [
       "array([[ 2,  3],\n",
       "       [ 5,  7],\n",
       "       [11, 13],\n",
       "       [17, 19]])"
      ]
     },
     "execution_count": 35,
     "metadata": {},
     "output_type": "execute_result"
    }
   ],
   "source": [
    "import numpy as np\n",
    "v = np.array([2, 3, 5, 7, 11, 13, 17, 19])\n",
    "b = v.reshape([4,2])\n",
    "b"
   ]
  },
  {
   "cell_type": "code",
   "execution_count": 15,
   "metadata": {},
   "outputs": [
    {
     "data": {
      "text/plain": [
       "3"
      ]
     },
     "execution_count": 15,
     "metadata": {},
     "output_type": "execute_result"
    }
   ],
   "source": [
    "b[0,1]\n"
   ]
  },
  {
   "cell_type": "code",
   "execution_count": 16,
   "metadata": {},
   "outputs": [
    {
     "data": {
      "text/plain": [
       "array([[11, 13],\n",
       "       [17, 19]])"
      ]
     },
     "execution_count": 16,
     "metadata": {},
     "output_type": "execute_result"
    }
   ],
   "source": [
    "b[2:,:]"
   ]
  },
  {
   "cell_type": "code",
   "execution_count": 36,
   "metadata": {},
   "outputs": [
    {
     "ename": "ImportError",
     "evalue": "this version of pandas is incompatible with numpy < 1.12.0\nyour numpy version is 1.8.0rc1.\nPlease upgrade numpy to >= 1.12.0 to use this pandas version",
     "output_type": "error",
     "traceback": [
      "\u001b[0;31m---------------------------------------------------------------------------\u001b[0m",
      "\u001b[0;31mImportError\u001b[0m                               Traceback (most recent call last)",
      "\u001b[0;32m<ipython-input-36-7dd3504c366f>\u001b[0m in \u001b[0;36m<module>\u001b[0;34m()\u001b[0m\n\u001b[0;32m----> 1\u001b[0;31m \u001b[0;32mimport\u001b[0m \u001b[0mpandas\u001b[0m \u001b[0;32mas\u001b[0m \u001b[0mpd\u001b[0m\u001b[0;34m\u001b[0m\u001b[0m\n\u001b[0m",
      "\u001b[0;32m/Users/shumashimizu/Library/Python/2.7/lib/python/site-packages/pandas/__init__.py\u001b[0m in \u001b[0;36m<module>\u001b[0;34m()\u001b[0m\n\u001b[1;32m     21\u001b[0m \u001b[0;34m\u001b[0m\u001b[0m\n\u001b[1;32m     22\u001b[0m \u001b[0;31m# numpy compat\u001b[0m\u001b[0;34m\u001b[0m\u001b[0;34m\u001b[0m\u001b[0m\n\u001b[0;32m---> 23\u001b[0;31m \u001b[0;32mfrom\u001b[0m \u001b[0mpandas\u001b[0m\u001b[0;34m.\u001b[0m\u001b[0mcompat\u001b[0m\u001b[0;34m.\u001b[0m\u001b[0mnumpy\u001b[0m \u001b[0;32mimport\u001b[0m \u001b[0;34m*\u001b[0m\u001b[0;34m\u001b[0m\u001b[0m\n\u001b[0m\u001b[1;32m     24\u001b[0m \u001b[0;34m\u001b[0m\u001b[0m\n\u001b[1;32m     25\u001b[0m \u001b[0;32mtry\u001b[0m\u001b[0;34m:\u001b[0m\u001b[0;34m\u001b[0m\u001b[0m\n",
      "\u001b[0;32m/Users/shumashimizu/Library/Python/2.7/lib/python/site-packages/pandas/compat/numpy/__init__.py\u001b[0m in \u001b[0;36m<module>\u001b[0;34m()\u001b[0m\n\u001b[1;32m     22\u001b[0m                       \u001b[0;34m'your numpy version is {0}.\\n'\u001b[0m\u001b[0;34m\u001b[0m\u001b[0m\n\u001b[1;32m     23\u001b[0m                       \u001b[0;34m'Please upgrade numpy to >= 1.12.0 to use '\u001b[0m\u001b[0;34m\u001b[0m\u001b[0m\n\u001b[0;32m---> 24\u001b[0;31m                       'this pandas version'.format(_np_version))\n\u001b[0m\u001b[1;32m     25\u001b[0m \u001b[0;34m\u001b[0m\u001b[0m\n\u001b[1;32m     26\u001b[0m \u001b[0;34m\u001b[0m\u001b[0m\n",
      "\u001b[0;31mImportError\u001b[0m: this version of pandas is incompatible with numpy < 1.12.0\nyour numpy version is 1.8.0rc1.\nPlease upgrade numpy to >= 1.12.0 to use this pandas version"
     ]
    }
   ],
   "source": [
    "import pandas as pd"
   ]
  },
  {
   "cell_type": "code",
   "execution_count": 34,
   "metadata": {},
   "outputs": [
    {
     "name": "stdout",
     "output_type": "stream",
     "text": [
      "1.8.0rc1\n"
     ]
    }
   ],
   "source": [
    "print(np.__version__)\n"
   ]
  },
  {
   "cell_type": "code",
   "execution_count": 26,
   "metadata": {},
   "outputs": [
    {
     "name": "stdout",
     "output_type": "stream",
     "text": [
      "['/System/Library/Frameworks/Python.framework/Versions/2.7/Extras/lib/python/numpy']\n"
     ]
    }
   ],
   "source": [
    "print(np.__path__)"
   ]
  },
  {
   "cell_type": "code",
   "execution_count": 48,
   "metadata": {},
   "outputs": [],
   "source": [
    "import matplotlib.pyplot as plt"
   ]
  },
  {
   "cell_type": "code",
   "execution_count": 3,
   "metadata": {},
   "outputs": [
    {
     "data": {
      "image/png": "[encoded data removed]",
      "text/plain": [
       "<Figure size 432x288 with 1 Axes>"
      ]
     },
     "metadata": {
      "needs_background": "light"
     },
     "output_type": "display_data"
    }
   ],
   "source": [
    "import numpy as np\n",
    "import matplotlib.pyplot as plt\n",
    "N = 50\n",
    "x = np.random.rand(N)\n",
    "y = np.random.rand(N)\n",
    "colors = np.random.rand(N)\n",
    "area = np.pi * (15 * np.random.rand(N))**2\n",
    "plt.scatter(x, y, s=area, c=colors, alpha=0.5)\n",
    "plt.show()"
   ]
  },
  {
   "cell_type": "code",
   "execution_count": 2,
   "metadata": {},
   "outputs": [],
   "source": [
    "%matplotlib inline"
   ]
  },
  {
   "cell_type": "code",
   "execution_count": null,
   "metadata": {},
   "outputs": [],
   "source": []
  }
 ],
 "metadata": {
  "kernelspec": {
   "display_name": "Python 2",
   "language": "python",
   "name": "python2"
  },
  "language_info": {
   "codemirror_mode": {
    "name": "ipython",
    "version": 2
   },
   "file_extension": ".py",
   "mimetype": "text/x-python",
   "name": "python",
   "nbconvert_exporter": "python",
   "pygments_lexer": "ipython2",
   "version": "2.7.10"
  }
 },
 "nbformat": 4,
 "nbformat_minor": 2
}
