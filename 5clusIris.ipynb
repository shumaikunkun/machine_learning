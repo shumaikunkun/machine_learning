{
 "cells": [
  {
   "cell_type": "code",
   "execution_count": null,
   "metadata": {},
   "outputs": [],
   "source": [
    "import numpy as np\n",
    "import matplotlib.pyplot as plt\n",
    "\n",
    "from sklearn.cluster import KMeans\n",
    "import numpy as np\n",
    "\n",
    "attrNames = [\"sepal length\", \"sepal width\", \"petal length\", \"petal width\"]\n",
    "targetAttr = [0,2]\n",
    "\n",
    "datalist = []\n",
    "f = open('iris.data', 'r')\n",
    "for line in f:\n",
    "    line = line.rstrip()\n",
    "    elems = line.split(',')\n",
    "    if len(elems) > 1:\n",
    "      datalist.append(elems[:-1])\n",
    "f.close()\n",
    "\n",
    "X = np.float_(np.array(datalist))\n",
    "\n",
    "kres = KMeans(n_clusters=5)\n",
    "clus_labels = kres.fit_predict(X)\n",
    "\n",
    "clusCent = kres.cluster_centers_\n",
    "\n",
    "fig, ax = plt.subplots()\n",
    "ax.scatter(X[:, targetAttr[0]], X[:, targetAttr[1]], c=clus_labels, lw=0)\n",
    "\n",
    "ax.scatter(clusCent[:, targetAttr[0]], clusCent[:,targetAttr[1]], edgecolors=\"red\", c=\"red\", lw=10)\n",
    "\n",
    "ax.tick_params(axis='both', which='major', labelsize=18)\n",
    "ax.tick_params(axis='both', which='minor', labelsize=18)\n",
    "ax.set_xlabel(attrNames[targetAttr[0]], fontsize=18)\n",
    "ax.set_ylabel(attrNames[targetAttr[1]], fontsize=18)\n",
    "\n",
    "plt.show()"
   ]
  },
  {
   "cell_type": "code",
   "execution_count": null,
   "metadata": {},
   "outputs": [],
   "source": []
  }
 ],
 "metadata": {
  "kernelspec": {
   "display_name": "Python 2",
   "language": "python",
   "name": "python2"
  },
  "language_info": {
   "codemirror_mode": {
    "name": "ipython",
    "version": 2
   },
   "file_extension": ".py",
   "mimetype": "text/x-python",
   "name": "python",
   "nbconvert_exporter": "python",
   "pygments_lexer": "ipython2",
   "version": "2.7.10"
  }
 },
 "nbformat": 4,
 "nbformat_minor": 2
}
