{
 "cells": [
  {
   "cell_type": "code",
   "execution_count": 3,
   "metadata": {},
   "outputs": [
    {
     "ename": "SyntaxError",
     "evalue": "invalid syntax (<ipython-input-3-1c3b6bbe4340>, line 16)",
     "output_type": "error",
     "traceback": [
      "\u001b[0;36m  File \u001b[0;32m\"<ipython-input-3-1c3b6bbe4340>\"\u001b[0;36m, line \u001b[0;32m16\u001b[0m\n\u001b[0;31m    ax.scatter(gdp, happiness, label='All', marker='*') ax.scatter(jgdp, jhappiness, c='red', label='Japan', s=50) ax.scatter(gdp_test, happiness_predict, c='green', marker='.', label='pred')\u001b[0m\n\u001b[0m                                                         ^\u001b[0m\n\u001b[0;31mSyntaxError\u001b[0m\u001b[0;31m:\u001b[0m invalid syntax\n"
     ]
    }
   ],
   "source": [
    "import matplotlib.pyplot as plt\n",
    "import numpy as np\n",
    "import pandas as pd\n",
    "from sklearn import linear_model\n",
    "d = pd.read_csv('2017.csv')\n",
    "happiness = d['Happiness.Score']\n",
    "gdp = d['Economy..GDP.per.Capita.']\n",
    "japanID = 50\n",
    "jhappiness = d.ix[japanID,'Happiness.Score']\n",
    "jgdp = d.ix[japanID, 'Economy..GDP.per.Capita.']\n",
    "lr = linear_model.LinearRegression()\n",
    "lr.fit(gdp.values.reshape((-1,1)), happiness.values)\n",
    "gdp_test = np.linspace(gdp.min(), gdp.max(), 10000)\n",
    "happiness_predict = lr.predict(gdp_test.reshape((-1,1)))\n",
    "fig, ax = plt.subplots()\n",
    "ax.scatter(gdp, happiness, label='All', marker='*') ax.scatter(jgdp, jhappiness, c='red', label='Japan', s=50) ax.scatter(gdp_test, happiness_predict, c='green', marker='.', label='pred')\n",
    "ax.legend(loc='lower left') ax.set_xlabel('Economy..GDP.per.Capita.') ax.set_ylabel('Happiness.Score')"
   ]
  },
  {
   "cell_type": "code",
   "execution_count": null,
   "metadata": {},
   "outputs": [],
   "source": []
  }
 ],
 "metadata": {
  "kernelspec": {
   "display_name": "Python 2",
   "language": "python",
   "name": "python2"
  },
  "language_info": {
   "codemirror_mode": {
    "name": "ipython",
    "version": 2
   },
   "file_extension": ".py",
   "mimetype": "text/x-python",
   "name": "python",
   "nbconvert_exporter": "python",
   "pygments_lexer": "ipython2",
   "version": "2.7.10"
  }
 },
 "nbformat": 4,
 "nbformat_minor": 2
}
